{
 "cells": [
  {
   "cell_type": "code",
   "execution_count": 1,
   "metadata": {},
   "outputs": [
    {
     "name": "stdout",
     "output_type": "stream",
     "text": [
      "Define Object Oriented Programming Language?\n",
      "\n",
      "Object Oriented Programming is a paradigm or a style in which we become capable to write code with understanding the real world scenario.\n"
     ]
    }
   ],
   "source": [
    "#Question1\n",
    "print(\"Define Object Oriented Programming Language?\\n\")\n",
    "print(\"Object Oriented Programming is a paradigm or a style in which we become capable to write code with understanding the real world scenario.\")"
   ]
  },
  {
   "cell_type": "code",
   "execution_count": 2,
   "metadata": {},
   "outputs": [
    {
     "name": "stdout",
     "output_type": "stream",
     "text": [
      "List down the Benefits of OOP?\n",
      "\n",
      "- Under the OOP paradigm we capable to understand the real world proble to tackle the solutions in term of Classes and OBJECTS.\n",
      "\n",
      "- It further allows the developer to Encapsulate data(Hiding Data) from the rest part of Application, Inherit data or methods to carry out the solution.\n",
      "\n",
      "- Pollymorphism and Abstraction(Means get required data or methods) \n"
     ]
    }
   ],
   "source": [
    "#Question2\n",
    "\n",
    "print(\"List down the Benefits of OOP?\\n\")\n",
    "print(\"- Under the OOP paradigm we capable to understand the real world proble to tackle the solutions in term of Classes and OBJECTS.\\n\\n- It further allows the developer to Encapsulate data(Hiding Data) from the rest part of Application, Inherit data or methods to carry out the solution.\\n\\n- Pollymorphism and Abstraction(Means get required data or methods) \")"
   ]
  },
  {
   "cell_type": "code",
   "execution_count": 3,
   "metadata": {},
   "outputs": [
    {
     "name": "stdout",
     "output_type": "stream",
     "text": [
      "Differentiate between function and method?\n",
      "\n",
      "METHODS \n",
      "\n",
      "when we perform task or calculations in terms of reusable line of code with using the OOP paradigm(Class),It is said to be the METHODS in that class.\n",
      "\n",
      "FUNCTIONS \n",
      "\n",
      "when we perform task or calculations in terms of reusable line of code without using the OOP paradigm(Class),It is said to be the FUNCTIONS.\n"
     ]
    }
   ],
   "source": [
    "#Question3\n",
    "print(\"Differentiate between function and method?\\n\")\n",
    "print(\"METHODS \\n\")\n",
    "print(\"when we perform task or calculations in terms of reusable line of code with using the OOP paradigm(Class),It is said to be the METHODS in that class.\\n\")\n",
    "print(\"FUNCTIONS \\n\")\n",
    "print(\"when we perform task or calculations in terms of reusable line of code without using the OOP paradigm(Class),It is said to be the FUNCTIONS.\")"
   ]
  },
  {
   "cell_type": "code",
   "execution_count": 4,
   "metadata": {},
   "outputs": [
    {
     "name": "stdout",
     "output_type": "stream",
     "text": [
      "- CLASS\n",
      " class is a model(blue print) having capablities to have Objects and attributes.\n",
      "\n",
      "- OBJECT\n",
      " Object is a real entity where class is a blue print(Concept) specificly.\n",
      "\n",
      "- ATTRIBUTE\n",
      " Attributes are data for the class from which we can perform different operations on given data stored in attributes. also called (fields of that class).\n",
      "\n",
      "- BEHAVIOR\n",
      " Behavior refers in term of functionality called (Method). we use class attribute and perform calculations or task which becomes behavior of that class which is belong to.\n",
      "\n"
     ]
    }
   ],
   "source": [
    "#Question4\n",
    "print(\"- CLASS\\n class is a model(blue print) having capablities to have Objects and attributes.\\n\")\n",
    "print(\"- OBJECT\\n Object is a real entity where class is a blue print(Concept) specificly.\\n\")\n",
    "print(\"- ATTRIBUTE\\n Attributes are data for the class from which we can perform different operations on given data stored in attributes. also called (fields of that class).\\n\")\n",
    "print(\"- BEHAVIOR\\n Behavior refers in term of functionality called (Method). we use class attribute and perform calculations or task which becomes behavior of that class which is belong to.\\n\")"
   ]
  },
  {
   "cell_type": "code",
   "execution_count": 5,
   "metadata": {},
   "outputs": [
    {
     "name": "stdout",
     "output_type": "stream",
     "text": [
      "________________________________________________________________________________________\n",
      "\n",
      "Name==> Camery\n",
      "Model ==> 2017\n",
      "Color ==> Black\n",
      "Brand ==> Toyota\n",
      "Type ==> Hybrid\n",
      "________________________________________________________________________________________\n",
      "\n",
      "Name==> Micra\n",
      "Model ==> 2019\n",
      "Color ==> white\n",
      "Brand ==> Nissan\n",
      "Type ==> Diesel\n",
      "________________________________________________________________________________________\n",
      "\n",
      "Name==> Micra\n",
      "Model ==> 2019\n",
      "Color ==> white\n",
      "Brand ==> Nissan\n",
      "Type ==> Diesel\n",
      "________________________________________________________________________________________\n",
      "\n",
      "Name==> Camery\n",
      "Model ==> 2017\n",
      "________________________________________________________________________________________\n",
      "\n",
      "Name==> Camery\n",
      "Model ==> 2017\n",
      "Color ==> Black\n",
      "Brand ==> Toyota\n",
      "Type ==> Hybrid\n"
     ]
    }
   ],
   "source": [
    "#Question5\n",
    "class Car:\n",
    "    model='2017'\n",
    "    color='Black'\n",
    "    name='Camery'\n",
    "    brand='Toyota'\n",
    "    type_='Hybrid'\n",
    "    \n",
    "    \n",
    "    def get_car_details(self):\n",
    "       \n",
    "        print(\"________________________________________________________________________________________\\n\")\n",
    "        print(\"Name==> {}\\nModel ==> {}\\nColor ==> {}\\nBrand ==> {}\\nType ==> {}\".format(self.name,self.model,self.color,self.brand,self.type_))\n",
    "    def get_customized_details(self,name,model,color,brand,type_):       \n",
    "        self.name=name\n",
    "        self.model=model\n",
    "        self.color=color\n",
    "        self.brand=brand\n",
    "        self.type_=type_\n",
    "        \n",
    "        print(\"________________________________________________________________________________________\\n\")\n",
    "        print(\"Name==> {}\\nModel ==> {}\\nColor ==> {}\\nBrand ==> {}\\nType ==> {}\".format(self.name,self.model,self.color,self.brand,self.type_))\n",
    "        \n",
    "\n",
    "    def get_some_details(self):       \n",
    "       \n",
    "        print(\"________________________________________________________________________________________\\n\")\n",
    "        print(\"Name==> {}\\nModel ==> {}\".format(self.name,self.model,self.color))\n",
    "\n",
    "car1= Car()\n",
    "car1.get_car_details()\n",
    "\n",
    "car2= Car()\n",
    "car2.get_customized_details('Micra','2019','white','Nissan','Diesel')\n",
    "car2.get_car_details()\n",
    "\n",
    "car3=Car()\n",
    "car3.get_some_details()\n",
    "car3.get_car_details()"
   ]
  },
  {
   "cell_type": "code",
   "execution_count": null,
   "metadata": {},
   "outputs": [],
   "source": []
  }
 ],
 "metadata": {
  "kernelspec": {
   "display_name": "Python 3",
   "language": "python",
   "name": "python3"
  },
  "language_info": {
   "codemirror_mode": {
    "name": "ipython",
    "version": 3
   },
   "file_extension": ".py",
   "mimetype": "text/x-python",
   "name": "python",
   "nbconvert_exporter": "python",
   "pygments_lexer": "ipython3",
   "version": "3.7.4"
  }
 },
 "nbformat": 4,
 "nbformat_minor": 2
}
