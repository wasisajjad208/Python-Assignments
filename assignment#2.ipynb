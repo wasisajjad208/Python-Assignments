{
 "cells": [
  {
   "cell_type": "code",
   "execution_count": 1,
   "metadata": {},
   "outputs": [
    {
     "name": "stdout",
     "output_type": "stream",
     "text": [
      "Enter your Compiler Construction Marks Out of 100: 80\n",
      "Enter your Computer Networking Marks Out of 100: 90\n",
      "Enter your Discrete Mathematics Marks Out of 100: 95\n",
      "Enter your Basic Electronics Marks Out of 100: 99\n",
      "Enter your OOP Marks Out of 100: 95\n",
      "Your Total Marks are  459\n",
      "Your Percentage is  91.8\n",
      "A+ Grade!\n"
     ]
    }
   ],
   "source": [
    "#1- Write a program which takes 5 inputs from user for different subject’s marks, total it and generate mark sheet using grades?\n",
    "\n",
    "course1=int(input(\"Enter your Compiler Construction Marks Out of 100: \"))\n",
    "course2=int(input(\"Enter your Computer Networking Marks Out of 100: \"))\n",
    "course3=int(input(\"Enter your Discrete Mathematics Marks Out of 100: \"))\n",
    "course4=int(input(\"Enter your Basic Electronics Marks Out of 100: \"))\n",
    "course5=int(input(\"Enter your OOP Marks Out of 100: \"))\n",
    "total_marks=course1+course2+course3+course4+course5\n",
    "per=(total_marks/500)*100\n",
    "print(\"Your Total Marks are \",total_marks)\n",
    "print(\"Your Percentage is \",per)\n",
    "if per >= 80 and per <= 100:\n",
    "    print (\"A+ Grade!\")\n",
    "elif per >= 70 and per < 80:\n",
    "    print (\"A Grade!\")\n",
    "elif per >= 60 and per < 70:\n",
    "    print (\"B Grade!\")\n",
    "elif per >= 50 and per < 60:\n",
    "    print (\"C Grade!\")\n",
    "elif per >= 40 and per < 50:\n",
    "    print (\"D Grade!\")\n",
    "elif per >= 33 and per < 40:\n",
    "    print (\"E Grade!\")\n",
    "else:\n",
    "    print (\"You are Fail!!!\")"
   ]
  },
  {
   "cell_type": "code",
   "execution_count": 2,
   "metadata": {},
   "outputs": [
    {
     "name": "stdout",
     "output_type": "stream",
     "text": [
      "Enter a Random Number: 5\n",
      "Number is odd\n"
     ]
    }
   ],
   "source": [
    "#2- Write a program which take input from user and identify that the given number is even or odd?\n",
    "\n",
    "number=int(input(\"Enter a Random Number: \"))\n",
    "if(number%2 == 0):\n",
    "    print(\"Number is even\")\n",
    "else:\n",
    "    print(\"Number is odd\")"
   ]
  },
  {
   "cell_type": "code",
   "execution_count": 3,
   "metadata": {},
   "outputs": [
    {
     "name": "stdout",
     "output_type": "stream",
     "text": [
      "Length of list is 7\n"
     ]
    }
   ],
   "source": [
    "#3- Write a program which print the length of the list?\n",
    "\n",
    "my_list=[\"Wasi\",\"Sajjad\",208,7,\"Sir Syed\",77,\"University\"]\n",
    "print(\"Length of list is\",len(my_list))"
   ]
  },
  {
   "cell_type": "code",
   "execution_count": 4,
   "metadata": {},
   "outputs": [
    {
     "name": "stdout",
     "output_type": "stream",
     "text": [
      "How Many Numbers You Want to Enter: 7\n",
      "Enter Number: 11\n",
      "Enter Number: 22\n",
      "Enter Number: 33\n",
      "Enter Number: 44\n",
      "Enter Number: 55\n",
      "Enter Number: 66\n",
      "Enter Number: 77\n",
      "Sum of List is 308\n"
     ]
    }
   ],
   "source": [
    "#4- Write a Python program to sum all the numeric items in a list?\n",
    "\n",
    "num=int(input(\"How Many Numbers You Want to Enter: \"))\n",
    "my_list=[]\n",
    "for n in range(num):\n",
    "    number=int(input(\"Enter Number: \"))\n",
    "    my_list.append(number)\n",
    "print(\"Sum of List is\",sum(my_list))"
   ]
  },
  {
   "cell_type": "code",
   "execution_count": 5,
   "metadata": {},
   "outputs": [
    {
     "name": "stdout",
     "output_type": "stream",
     "text": [
      "How Many Numbers You Want to Enter: 4\n",
      "Enter Number: 22\n",
      "Enter Number: 44\n",
      "Enter Number: 66\n",
      "Enter Number: 11\n",
      "Largest Number is  66\n"
     ]
    }
   ],
   "source": [
    "#5- Write a Python program to get the largest number from a numeric list?\n",
    "\n",
    "num=int(input(\"How Many Numbers You Want to Enter: \"))\n",
    "my_list = []\n",
    "for n in range(num):\n",
    "    number = int(input(\"Enter Number: \"))\n",
    "    my_list.append(number)\n",
    "max_num = my_list[0]\n",
    "for n in my_list:\n",
    "    if(max_num < n):\n",
    "        max_num = n\n",
    "print(\"Largest Number is \",max_num)"
   ]
  },
  {
   "cell_type": "code",
   "execution_count": 6,
   "metadata": {},
   "outputs": [
    {
     "name": "stdout",
     "output_type": "stream",
     "text": [
      "1\n",
      "1\n",
      "2\n",
      "3\n"
     ]
    }
   ],
   "source": [
    "#6- Take a list, say for example this one: a = [1, 1, 2, 3, 5, 8, 13, 21, 34, 55, 89] and write a program that prints out all the elements of the list that are less than 5.\n",
    "\n",
    "a=[1,1,2,3,5,8,13,21,34,55,89]\n",
    "for n in a:\n",
    "    if(n < 5):\n",
    "        print(n)"
   ]
  },
  {
   "cell_type": "code",
   "execution_count": null,
   "metadata": {},
   "outputs": [],
   "source": []
  }
 ],
 "metadata": {
  "kernelspec": {
   "display_name": "Python 3",
   "language": "python",
   "name": "python3"
  },
  "language_info": {
   "codemirror_mode": {
    "name": "ipython",
    "version": 3
   },
   "file_extension": ".py",
   "mimetype": "text/x-python",
   "name": "python",
   "nbconvert_exporter": "python",
   "pygments_lexer": "ipython3",
   "version": "3.7.4"
  }
 },
 "nbformat": 4,
 "nbformat_minor": 2
}
