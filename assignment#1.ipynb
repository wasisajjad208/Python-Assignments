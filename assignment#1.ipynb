{
 "cells": [
  {
   "cell_type": "code",
   "execution_count": 1,
   "metadata": {},
   "outputs": [
    {
     "name": "stdout",
     "output_type": "stream",
     "text": [
      "Twinkle, twinkle, little star,\n",
      "\t How I wonder what you are!\n",
      "\t \t Up above the world so high,\n",
      "\t \t Like a diamond in the sky.\n",
      "Twinkle, twinkle, little star,\n",
      "\t How I wonder what you are\n"
     ]
    }
   ],
   "source": [
    "#1- Write a Python program to print the following string in a specific format (see the output) ?\n",
    "\n",
    "print(\"Twinkle, twinkle, little star,\") \n",
    "print(\"\\t How I wonder what you are!\") \n",
    "print(\"\\t \\t Up above the world so high,\") \n",
    "print(\"\\t \\t Like a diamond in the sky.\") \n",
    "print(\"Twinkle, twinkle, little star,\") \n",
    "print(\"\\t How I wonder what you are\")"
   ]
  },
  {
   "cell_type": "code",
   "execution_count": 2,
   "metadata": {},
   "outputs": [
    {
     "name": "stdout",
     "output_type": "stream",
     "text": [
      "Python version\n",
      "3.7.4 (default, Aug  9 2019, 18:34:13) [MSC v.1915 64 bit (AMD64)]\n",
      "Version info.\n",
      "sys.version_info(major=3, minor=7, micro=4, releaselevel='final', serial=0)\n"
     ]
    }
   ],
   "source": [
    "#2- Write a Python program to get the Python version you are using ? \n",
    "\n",
    "import sys \n",
    "print(\"Python version\") \n",
    "print (sys.version) \n",
    "print(\"Version info.\") \n",
    "print (sys.version_info)"
   ]
  },
  {
   "cell_type": "code",
   "execution_count": 3,
   "metadata": {},
   "outputs": [
    {
     "name": "stdout",
     "output_type": "stream",
     "text": [
      "now = 2019-11-04 16:38:33.888024\n",
      "date and time = 04/11/2019 16:38:33\n"
     ]
    }
   ],
   "source": [
    "#3- Write a Python program to display the current date and time. ? \n",
    "\n",
    "from datetime import datetime \n",
    "now = datetime.now() \n",
    "print(\"now =\", now) \n",
    "dt_string = now.strftime(\"%d/%m/%Y %H:%M:%S\") \n",
    "print(\"date and time =\", dt_string)"
   ]
  },
  {
   "cell_type": "code",
   "execution_count": 4,
   "metadata": {},
   "outputs": [
    {
     "name": "stdout",
     "output_type": "stream",
     "text": [
      "Input the radius of the circle : 5\n",
      "The area of the circle with radius 5.0 is: 78.53981633974483\n"
     ]
    }
   ],
   "source": [
    "#4- Write a Python program which accepts the radius of a circle from the user and compute the area ? \n",
    "\n",
    "from math import pi \n",
    "radius = float(input (\"Input the radius of the circle : \")) \n",
    "print (\"The area of the circle with radius \" + str(radius) + \" is: \" + str(pi * radius**2))"
   ]
  },
  {
   "cell_type": "code",
   "execution_count": 5,
   "metadata": {},
   "outputs": [
    {
     "name": "stdout",
     "output_type": "stream",
     "text": [
      "Input your First Name : Wasi\n",
      "Input your Last Name : Sajjad\n",
      "Hello  Sajjad Wasi\n"
     ]
    }
   ],
   "source": [
    "#5- Write a Python program which accepts the user's first and last name and print them in reverse order with a space between them. ?\n",
    "\n",
    "firstname = input(\"Input your First Name : \") \n",
    "lastname = input(\"Input your Last Name : \") \n",
    "print (\"Hello  \" + lastname + \" \" + firstname)"
   ]
  },
  {
   "cell_type": "code",
   "execution_count": 6,
   "metadata": {},
   "outputs": [
    {
     "name": "stdout",
     "output_type": "stream",
     "text": [
      "Enter Your First Number5\n",
      "Enter Your Second Number5\n",
      "The sum of 5 and 5 is 10.0\n"
     ]
    }
   ],
   "source": [
    "#6- Write a python program which takes two inputs from user and print them addition ? \n",
    "\n",
    "input1 = input('Enter Your First Number') \n",
    "input2 = input('Enter Your Second Number') \n",
    "sum = float(input1) + float(input2) \n",
    "print('The sum of {0} and {1} is {2}'.format(input1, input2, sum))"
   ]
  },
  {
   "cell_type": "code",
   "execution_count": null,
   "metadata": {},
   "outputs": [],
   "source": []
  }
 ],
 "metadata": {
  "kernelspec": {
   "display_name": "Python 3",
   "language": "python",
   "name": "python3"
  },
  "language_info": {
   "codemirror_mode": {
    "name": "ipython",
    "version": 3
   },
   "file_extension": ".py",
   "mimetype": "text/x-python",
   "name": "python",
   "nbconvert_exporter": "python",
   "pygments_lexer": "ipython3",
   "version": "3.7.4"
  }
 },
 "nbformat": 4,
 "nbformat_minor": 2
}
